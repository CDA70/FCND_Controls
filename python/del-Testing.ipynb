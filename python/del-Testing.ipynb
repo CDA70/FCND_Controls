{
 "cells": [
  {
   "cell_type": "code",
   "execution_count": 1,
   "metadata": {},
   "outputs": [],
   "source": [
    "from controller import NonlinearController\n",
    "from unity_drone import UnityDrone\n",
    "from controls_flyer import ControlsFlyer\n",
    "\n",
    "from udacidrone.connection import MavlinkConnection  # noqa: F401\n",
    "from udacidrone.messaging import MsgID\n",
    "\n",
    "import time\n",
    "\n",
    "\n",
    "conn = MavlinkConnection('tcp:127.0.0.1:5760', threaded=False, PX4=False)"
   ]
  },
  {
   "cell_type": "code",
   "execution_count": null,
   "metadata": {},
   "outputs": [],
   "source": [
    "#(position_trajectory,\n",
    "# time_trajectory,\n",
    "# yaw_trajectory) = UnityDrone.load_test_trajectory(time_mult=0.5)\n",
    "\n",
    "udrone = UnityDrone(conn)\n",
    "pos_t, time_t, yaw_t = udrone.load_test_trajectory()\n",
    "\n",
    "nlc = NonlinearController()\n",
    "\n",
    "pos_cmd, vel_cmd, yaw_cmd = nlc.trajectory_control(pos_t,yaw_t,time_t,t)\n",
    "    \n",
    "print(pos_cmd, vel_cmd, yaw_cmd)\n",
    "print(nlc.trajectory_control(pos_t,yaw_t,time_t,t))\n",
    "\n",
    "nlc.yaw_control(yaw_cmd, )"
   ]
  },
  {
   "cell_type": "code",
   "execution_count": 2,
   "metadata": {},
   "outputs": [
    {
     "name": "stdout",
     "output_type": "stream",
     "text": [
      "Logs/TLog.txt\n",
      "For visual autograder start visdom server: python -m visdom.server\n",
      "Altitude control c:  19.62\n",
      "p_c :  0.0\n",
      "q_c :  0.0\n"
     ]
    }
   ],
   "source": [
    "cf = ControlsFlyer(conn)\n",
    "cf.attitude_controller()"
   ]
  }
 ],
 "metadata": {
  "kernelspec": {
   "display_name": "Python 3",
   "language": "python",
   "name": "python3"
  },
  "language_info": {
   "codemirror_mode": {
    "name": "ipython",
    "version": 3
   },
   "file_extension": ".py",
   "mimetype": "text/x-python",
   "name": "python",
   "nbconvert_exporter": "python",
   "pygments_lexer": "ipython3",
   "version": "3.6.3"
  }
 },
 "nbformat": 4,
 "nbformat_minor": 2
}
